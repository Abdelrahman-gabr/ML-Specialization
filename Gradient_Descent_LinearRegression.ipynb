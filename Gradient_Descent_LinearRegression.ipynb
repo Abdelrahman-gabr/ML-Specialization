{
  "cells": [
    {
      "cell_type": "markdown",
      "metadata": {
        "id": "view-in-github",
        "colab_type": "text"
      },
      "source": [
        "<a href=\"https://colab.research.google.com/github/Abdelrahman-gabr/ML-Specialization-/blob/main/Gradient_Descent_LinearRegression.ipynb\" target=\"_parent\"><img src=\"https://colab.research.google.com/assets/colab-badge.svg\" alt=\"Open In Colab\"/></a>"
      ]
    },
    {
      "cell_type": "code",
      "execution_count": 3,
      "metadata": {
        "id": "WZHFt1grCkrb"
      },
      "outputs": [],
      "source": [
        "import math, copy\n",
        "import numpy as np\n",
        "import matplotlib.pyplot as plt\n",
        "plt.style.use('./deeplearning.mplstyle')"
      ],
      "id": "WZHFt1grCkrb"
    },
    {
      "cell_type": "markdown",
      "metadata": {
        "id": "DM_SBaCcCkrb"
      },
      "source": [
        "<a name=\"toc_40291_2\"></a>\n",
        "# Problem Statement\n",
        "\n",
        "Let's use the same two data points as before - a house with 1000 square feet sold for \\\\$300,000 and a house with 2000 square feet sold for \\\\$500,000.\n",
        "\n",
        "| Size (1000 sqft)     | Price (1000s of dollars) |\n",
        "| ----------------| ------------------------ |\n",
        "| 1               | 300                      |\n",
        "| 2               | 500                      |\n"
      ],
      "id": "DM_SBaCcCkrb"
    },
    {
      "cell_type": "code",
      "execution_count": 4,
      "metadata": {
        "id": "Elzc7buJCkrb"
      },
      "outputs": [],
      "source": [
        "# Load our data set\n",
        "x_train = np.array([1.0, 2.0])   #features\n",
        "y_train = np.array([300.0, 500.0])   #target value"
      ],
      "id": "Elzc7buJCkrb"
    },
    {
      "cell_type": "markdown",
      "metadata": {
        "id": "yRV12__TCkrc"
      },
      "source": [
        "<a name=\"toc_40291_2.0.1\"></a>\n",
        "### Compute_Cost\n",
        "This was developed in the last lab. We'll need it again here."
      ],
      "id": "yRV12__TCkrc"
    },
    {
      "cell_type": "code",
      "execution_count": 5,
      "metadata": {
        "id": "MI4Sd05FCkrc"
      },
      "outputs": [],
      "source": [
        "#Function to calculate the cost\n",
        "def compute_cost(x, y, w, b):\n",
        "\n",
        "    m = x.shape[0]\n",
        "    cost = 0\n",
        "\n",
        "    for i in range(m):\n",
        "        f_wb = w * x[i] + b\n",
        "        cost = cost + (f_wb - y[i])**2\n",
        "    total_cost = 1 / (2 * m) * cost\n",
        "\n",
        "    return total_cost"
      ],
      "id": "MI4Sd05FCkrc"
    },
    {
      "cell_type": "markdown",
      "metadata": {
        "id": "X56KG3bJCkrc"
      },
      "source": [
        "<a name=\"toc_40291_2.1\"></a>\n",
        "## Gradient descent summary\n",
        "So far in this course, you have developed a linear model that predicts $f_{w,b}(x^{(i)})$:\n",
        "$$f_{w,b}(x^{(i)}) = wx^{(i)} + b \\tag{1}$$\n",
        "In linear regression, you utilize input training data to fit the parameters $w$,$b$ by minimizing a measure of the error between our predictions $f_{w,b}(x^{(i)})$ and the actual data $y^{(i)}$. The measure is called the $cost$, $J(w,b)$. In training you measure the cost over all of our training samples $x^{(i)},y^{(i)}$\n",
        "$$J(w,b) = \\frac{1}{2m} \\sum\\limits_{i = 0}^{m-1} (f_{w,b}(x^{(i)}) - y^{(i)})^2\\tag{2}$$"
      ],
      "id": "X56KG3bJCkrc"
    },
    {
      "cell_type": "markdown",
      "metadata": {
        "id": "5TOCrziCCkrc"
      },
      "source": [
        "\n",
        "gradient descent  described as:\n",
        "\n",
        "$$\\begin{align*} \\text{repeat}&\\text{ until convergence:} \\; \\lbrace \\newline\n",
        "\\;  w &= w -  \\alpha \\frac{\\partial J(w,b)}{\\partial w} \\tag{3}  \\; \\newline\n",
        " b &= b -  \\alpha \\frac{\\partial J(w,b)}{\\partial b}  \\newline \\rbrace\n",
        "\\end{align*}$$\n",
        "where, parameters $w$, $b$ are updated simultaneously.  \n",
        "The gradient is defined as:\n",
        "$$\n",
        "\\begin{align}\n",
        "\\frac{\\partial J(w,b)}{\\partial w}  &= \\frac{1}{m} \\sum\\limits_{i = 0}^{m-1} (f_{w,b}(x^{(i)}) - y^{(i)})x^{(i)} \\tag{4}\\\\\n",
        "  \\frac{\\partial J(w,b)}{\\partial b}  &= \\frac{1}{m} \\sum\\limits_{i = 0}^{m-1} (f_{w,b}(x^{(i)}) - y^{(i)}) \\tag{5}\\\\\n",
        "\\end{align}\n",
        "$$\n",
        "\n",
        "Here *simultaniously* means that you calculate the partial derivatives for all the parameters before updating any of the parameters."
      ],
      "id": "5TOCrziCCkrc"
    },
    {
      "cell_type": "markdown",
      "metadata": {
        "id": "NSiZHOKZCkrc"
      },
      "source": [
        "<a name=\"toc_40291_2.2\"></a>\n",
        "## Implement Gradient Descent\n",
        "You will implement gradient descent algorithm for one feature. You will need three functions.\n",
        "- `compute_gradient`\n",
        "- `compute_cost`\n",
        "- `gradient_descent`\n",
        "\n",
        "\n"
      ],
      "id": "NSiZHOKZCkrc"
    },
    {
      "cell_type": "markdown",
      "metadata": {
        "id": "WzYEY-2_Ckrc"
      },
      "source": [
        "<a name=\"toc_40291_2.3\"></a>\n",
        "### compute_gradient\n",
        "<a name='ex-01'></a>\n",
        "`compute_gradient`  returns $\\frac{\\partial J(w,b)}{\\partial w}$,$\\frac{\\partial J(w,b)}{\\partial b}$. The embedded comments describe the operations."
      ],
      "id": "WzYEY-2_Ckrc"
    },
    {
      "cell_type": "code",
      "execution_count": 7,
      "metadata": {
        "id": "UNHMLgwbCkrc"
      },
      "outputs": [],
      "source": [
        "def compute_gradient(x, y, w, b):\n",
        "    \"\"\"\n",
        "    Computes the gradient for linear regression\n",
        "    Args:\n",
        "      x (ndarray (m,)): Data, m examples\n",
        "      y (ndarray (m,)): target values\n",
        "      w,b (scalar)    : model parameters\n",
        "    Returns\n",
        "      dj_dw (scalar): The gradient of the cost w.r.t. the parameters w\n",
        "      dj_db (scalar): The gradient of the cost w.r.t. the parameter b\n",
        "     \"\"\"\n",
        "\n",
        "\n",
        "    m = x.shape[0] # Number of training examples\n",
        "    dj_dw = 0\n",
        "    dj_db = 0\n",
        "\n",
        "    for i in range(m):\n",
        "        f_wb = w * x[i] + b\n",
        "        dj_dw = dj_dw + (f_wb - y[i]) * x[i]\n",
        "        dj_db = dj_db + (f_wb - y[i])\n",
        "\n",
        "    dj_dw = dj_dw / m\n",
        "    dj_db = dj_db / m\n",
        "    return dj_dw, dj_db\n"
      ],
      "id": "UNHMLgwbCkrc"
    },
    {
      "cell_type": "markdown",
      "metadata": {
        "id": "mr3H60gSCkrc"
      },
      "source": [
        "<br/>"
      ],
      "id": "mr3H60gSCkrc"
    },
    {
      "cell_type": "markdown",
      "metadata": {
        "id": "-ekNr6snCkrd"
      },
      "source": [
        "<a name=\"toc_40291_2.5\"></a>\n",
        "###  Gradient Descent\n",
        "Now that gradients can be computed,  gradient descent,  The details of the implementation are described in the comments. Below, you will utilize this function to find optimal values of $w$ and $b$ on the training data."
      ],
      "id": "-ekNr6snCkrd"
    },
    {
      "cell_type": "code",
      "execution_count": 10,
      "metadata": {
        "id": "goflo1_bCkrd"
      },
      "outputs": [],
      "source": [
        "def gradient_descent(x, y, w_in, b_in, alpha, num_iters, cost_function, gradient_function):\n",
        "    \"\"\"\n",
        "    Performs gradient descent to fit w,b. Updates w,b by taking\n",
        "    num_iters gradient steps with learning rate alpha\n",
        "\n",
        "    Args:\n",
        "      x (ndarray (m,))  : Data, m examples\n",
        "      y (ndarray (m,))  : target values\n",
        "      w_in,b_in (scalar): initial values of model parameters\n",
        "      alpha (float):     Learning rate\n",
        "      num_iters (int):   number of iterations to run gradient descent\n",
        "      cost_function:     function to call to produce cost\n",
        "      gradient_function: function to call to produce gradient\n",
        "\n",
        "    Returns:\n",
        "      w (scalar): Updated value of parameter after running gradient descent\n",
        "      b (scalar): Updated value of parameter after running gradient descent\n",
        "      J_history (List): History of cost values\n",
        "      p_history (list): History of parameters [w,b]\n",
        "      \"\"\"\n",
        "\n",
        "    # An array to store cost J and w's at each iteration primarily for graphing later\n",
        "    J_history = []\n",
        "    p_history = []\n",
        "    b = b_in\n",
        "    w = w_in\n",
        "\n",
        "    for i in range(num_iters):\n",
        "        # Calculate the gradient and update the parameters using gradient_function\n",
        "        dj_dw, dj_db = gradient_function(x, y, w , b)\n",
        "\n",
        "        # Update Parameters using equation (3) above\n",
        "        b = b - alpha * dj_db\n",
        "        w = w - alpha * dj_dw\n",
        "\n",
        "        # Save cost J at each iteration\n",
        "        if i<100000:      # prevent resource exhaustion\n",
        "            J_history.append(cost_function(x, y, w , b))\n",
        "            p_history.append([w,b])\n",
        "        # Print cost every at intervals 10 times or as many iterations if < 10\n",
        "        if i% math.ceil(num_iters/10) == 0:\n",
        "            print(f\"Iteration {i:4}: Cost {J_history[-1]:0.2e} \",\n",
        "                  f\"dj_dw: {dj_dw: 0.3e}, dj_db: {dj_db: 0.3e}  \",\n",
        "                  f\"w: {w: 0.3e}, b:{b: 0.5e}\")\n",
        "\n",
        "    return w, b, J_history, p_history #return w and J,w history for graphing"
      ],
      "id": "goflo1_bCkrd"
    },
    {
      "cell_type": "code",
      "execution_count": 24,
      "metadata": {
        "colab": {
          "base_uri": "https://localhost:8080/"
        },
        "id": "dKTbfj21Ckrd",
        "outputId": "1254057a-5c04-46be-8c8e-e5ada5ac8095"
      },
      "outputs": [
        {
          "output_type": "stream",
          "name": "stdout",
          "text": [
            "Iteration    0: Cost 7.93e+04  dj_dw: -6.500e+02, dj_db: -4.000e+02   w:  6.500e+00, b: 4.00000e+00\n",
            "Iteration 1000: Cost 3.41e+00  dj_dw: -3.712e-01, dj_db:  6.007e-01   w:  1.949e+02, b: 1.08228e+02\n",
            "Iteration 2000: Cost 7.93e-01  dj_dw: -1.789e-01, dj_db:  2.895e-01   w:  1.975e+02, b: 1.03966e+02\n",
            "Iteration 3000: Cost 1.84e-01  dj_dw: -8.625e-02, dj_db:  1.396e-01   w:  1.988e+02, b: 1.01912e+02\n",
            "Iteration 4000: Cost 4.28e-02  dj_dw: -4.158e-02, dj_db:  6.727e-02   w:  1.994e+02, b: 1.00922e+02\n",
            "Iteration 5000: Cost 9.95e-03  dj_dw: -2.004e-02, dj_db:  3.243e-02   w:  1.997e+02, b: 1.00444e+02\n",
            "Iteration 6000: Cost 2.31e-03  dj_dw: -9.660e-03, dj_db:  1.563e-02   w:  1.999e+02, b: 1.00214e+02\n",
            "Iteration 7000: Cost 5.37e-04  dj_dw: -4.657e-03, dj_db:  7.535e-03   w:  1.999e+02, b: 1.00103e+02\n",
            "Iteration 8000: Cost 1.25e-04  dj_dw: -2.245e-03, dj_db:  3.632e-03   w:  2.000e+02, b: 1.00050e+02\n",
            "Iteration 9000: Cost 2.90e-05  dj_dw: -1.082e-03, dj_db:  1.751e-03   w:  2.000e+02, b: 1.00024e+02\n",
            "(w,b) found by gradient descent: (199.9929,100.0116)\n"
          ]
        }
      ],
      "source": [
        "# initialize parameters\n",
        "w_init = 0\n",
        "b_init = 0\n",
        "# some gradient descent settings\n",
        "iterations = 10000\n",
        "tmp_alpha = 1.0e-2\n",
        "# run gradient descent\n",
        "w_final, b_final, J_hist, p_hist = gradient_descent(x_train ,y_train, w_init, b_init, tmp_alpha,\n",
        "                                                    iterations, compute_cost, compute_gradient)\n",
        "print(f\"(w,b) found by gradient descent: ({w_final:8.4f},{b_final:8.4f})\")"
      ],
      "id": "dKTbfj21Ckrd"
    },
    {
      "cell_type": "markdown",
      "metadata": {
        "id": "-3JO9-FJCkrd"
      },
      "source": [
        "### Cost versus iterations of gradient descent\n",
        "A plot of cost versus iterations is a useful measure of progress in gradient descent. Cost should always decrease in successful runs. The change in cost is so rapid initially, it is useful to plot the initial decent on a different scale than the final descent. In the plots below, note the scale of cost on the axes and the iteration step."
      ],
      "id": "-3JO9-FJCkrd"
    },
    {
      "cell_type": "code",
      "execution_count": 25,
      "metadata": {
        "colab": {
          "base_uri": "https://localhost:8080/",
          "height": 323
        },
        "id": "y8mA4y1zCkrd",
        "outputId": "4688e274-0b26-49de-e712-938a46d939f1"
      },
      "outputs": [
        {
          "output_type": "display_data",
          "data": {
            "text/plain": [
              "<Figure size 1200x400 with 2 Axes>"
            ],
            "image/png": "[encoded data removed]"
          },
          "metadata": {}
        }
      ],
      "source": [
        "# plot cost versus iteration\n",
        "fig, (ax1, ax2) = plt.subplots(1, 2, constrained_layout=True, figsize=(12,4))\n",
        "ax1.plot(J_hist[:100])\n",
        "ax2.plot(1000 + np.arange(len(J_hist[1000:])), J_hist[1000:])\n",
        "ax1.set_title(\"Cost vs. iteration(start)\");  ax2.set_title(\"Cost vs. iteration (end)\")\n",
        "ax1.set_ylabel('Cost')            ;  ax2.set_ylabel('Cost')\n",
        "ax1.set_xlabel('iteration step')  ;  ax2.set_xlabel('iteration step')\n",
        "plt.show()"
      ],
      "id": "y8mA4y1zCkrd"
    },
    {
      "cell_type": "markdown",
      "metadata": {
        "id": "ji5HZaAaCkrd"
      },
      "source": [
        "### Predictions\n",
        "Now that you have discovered the optimal values for the parameters $w$ and $b$, you can now use the model to predict housing values based on our learned parameters. As expected, the predicted values are nearly the same as the training values for the same housing. Further, the value not in the prediction is in line with the expected value."
      ],
      "id": "ji5HZaAaCkrd"
    },
    {
      "cell_type": "code",
      "execution_count": 26,
      "metadata": {
        "colab": {
          "base_uri": "https://localhost:8080/"
        },
        "id": "CSYAQEEJCkrd",
        "outputId": "a32d49fb-ce8d-4ead-c145-f6c742bd3ae6"
      },
      "outputs": [
        {
          "output_type": "stream",
          "name": "stdout",
          "text": [
            "1000 sqft house prediction 300.0 Thousand dollars\n",
            "1200 sqft house prediction 340.0 Thousand dollars\n",
            "2000 sqft house prediction 500.0 Thousand dollars\n"
          ]
        }
      ],
      "source": [
        "print(f\"1000 sqft house prediction {w_final*1.0 + b_final:0.1f} Thousand dollars\")\n",
        "print(f\"1200 sqft house prediction {w_final*1.2 + b_final:0.1f} Thousand dollars\")\n",
        "print(f\"2000 sqft house prediction {w_final*2.0 + b_final:0.1f} Thousand dollars\")"
      ],
      "id": "CSYAQEEJCkrd"
    },
    {
      "cell_type": "markdown",
      "metadata": {
        "id": "_nyztCKbCkrd"
      },
      "source": [
        "<a name=\"toc_40291_2.7.1\"></a>\n",
        "### Increased Learning Rate\n",
        "\n",
        "<figure>\n",
        " <img align=\"left\", src=\"./images/C1_W1_Lab03_alpha_too_big.PNG\"   style=\"width:340px;height:240px;\" >\n",
        "</figure>\n",
        "In the lecture, there was a discussion related to the proper value of the learning rate, $\\alpha$ in equation(3). The larger $\\alpha$ is, the faster gradient descent will converge to a solution. But, if it is too large, gradient descent will diverge. Above you have an example of a solution which converges nicely.\n",
        "\n",
        "Let's try increasing the value of  $\\alpha$ and see what happens:"
      ],
      "id": "_nyztCKbCkrd"
    },
    {
      "cell_type": "code",
      "execution_count": 27,
      "metadata": {
        "colab": {
          "base_uri": "https://localhost:8080/"
        },
        "id": "aTN27feYCkrd",
        "outputId": "f7daf54f-d537-4130-8ab5-f1c5a9d34c68"
      },
      "outputs": [
        {
          "output_type": "stream",
          "name": "stdout",
          "text": [
            "Iteration    0: Cost 2.58e+05  dj_dw: -6.500e+02, dj_db: -4.000e+02   w:  5.200e+02, b: 3.20000e+02\n",
            "Iteration    1: Cost 7.82e+05  dj_dw:  1.130e+03, dj_db:  7.000e+02   w: -3.840e+02, b:-2.40000e+02\n",
            "Iteration    2: Cost 2.37e+06  dj_dw: -1.970e+03, dj_db: -1.216e+03   w:  1.192e+03, b: 7.32800e+02\n",
            "Iteration    3: Cost 7.19e+06  dj_dw:  3.429e+03, dj_db:  2.121e+03   w: -1.551e+03, b:-9.63840e+02\n",
            "Iteration    4: Cost 2.18e+07  dj_dw: -5.974e+03, dj_db: -3.691e+03   w:  3.228e+03, b: 1.98886e+03\n",
            "Iteration    5: Cost 6.62e+07  dj_dw:  1.040e+04, dj_db:  6.431e+03   w: -5.095e+03, b:-3.15579e+03\n",
            "Iteration    6: Cost 2.01e+08  dj_dw: -1.812e+04, dj_db: -1.120e+04   w:  9.402e+03, b: 5.80237e+03\n",
            "Iteration    7: Cost 6.09e+08  dj_dw:  3.156e+04, dj_db:  1.950e+04   w: -1.584e+04, b:-9.80139e+03\n",
            "Iteration    8: Cost 1.85e+09  dj_dw: -5.496e+04, dj_db: -3.397e+04   w:  2.813e+04, b: 1.73730e+04\n",
            "Iteration    9: Cost 5.60e+09  dj_dw:  9.572e+04, dj_db:  5.916e+04   w: -4.845e+04, b:-2.99567e+04\n"
          ]
        }
      ],
      "source": [
        "# initialize parameters\n",
        "w_init = 0\n",
        "b_init = 0\n",
        "# set alpha to a large value\n",
        "iterations = 10\n",
        "tmp_alpha = 8.0e-1\n",
        "# run gradient descent\n",
        "w_final, b_final, J_hist, p_hist = gradient_descent(x_train ,y_train, w_init, b_init, tmp_alpha,\n",
        "                                                    iterations, compute_cost, compute_gradient)"
      ],
      "id": "aTN27feYCkrd"
    },
    {
      "cell_type": "markdown",
      "metadata": {
        "id": "D5m4z7tCCkre"
      },
      "source": [
        "Above, $w$ and $b$ are bouncing back and forth between positive and negative with the absolute value increasing with each iteration. Further, each iteration $\\frac{\\partial J(w,b)}{\\partial w}$ changes sign and cost is increasing rather than decreasing. This is a clear sign that the *learning rate is too large* and the solution is diverging.\n",
        "Let's visualize this with a plot."
      ],
      "id": "D5m4z7tCCkre"
    },
    {
      "cell_type": "code",
      "execution_count": null,
      "metadata": {
        "id": "u1qEDHjYCkre"
      },
      "outputs": [],
      "source": [],
      "id": "u1qEDHjYCkre"
    }
  ],
  "metadata": {
    "dl_toc_settings": {
      "rndtag": "40291"
    },
    "kernelspec": {
      "display_name": "Python 3",
      "language": "python",
      "name": "python3"
    },
    "language_info": {
      "codemirror_mode": {
        "name": "ipython",
        "version": 3
      },
      "file_extension": ".py",
      "mimetype": "text/x-python",
      "name": "python",
      "nbconvert_exporter": "python",
      "pygments_lexer": "ipython3",
      "version": "3.7.6"
    },
    "toc-autonumbering": false,
    "colab": {
      "provenance": [],
      "include_colab_link": true
    }
  },
  "nbformat": 4,
  "nbformat_minor": 5
}